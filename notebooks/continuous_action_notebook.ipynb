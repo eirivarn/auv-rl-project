{
 "cells": [
  {
   "cell_type": "code",
   "execution_count": 17,
   "id": "3a23cd8e",
   "metadata": {},
   "outputs": [
    {
     "name": "stdout",
     "output_type": "stream",
     "text": [
      "→ Added to sys.path: /Users/eirikvarnes/code/auv-rl-project\n",
      "→ cwd is: /Users/eirikvarnes/code/auv-rl-project/notebooks\n"
     ]
    }
   ],
   "source": [
    "import os, sys, time\n",
    "import numpy as np\n",
    "import matplotlib.pyplot as plt\n",
    "import torch\n",
    "\n",
    "project_root = os.path.abspath(os.path.join(os.getcwd(), '..'))\n",
    "if project_root not in sys.path:\n",
    "    sys.path.insert(0, project_root)\n",
    "\n",
    "device = 'cuda' if torch.cuda.is_available() else 'cpu'\n",
    "\n",
    "print(\"→ Added to sys.path:\", project_root)\n",
    "print(\"→ cwd is:\", os.getcwd())\n",
    "\n",
    "from environments.realistic_env    import realisticAUVEnv\n",
    "from agents.td3_agent              import TD3Agent\n",
    "from utils.rl_utils                import *"
   ]
  },
  {
   "cell_type": "markdown",
   "id": "e63554f2",
   "metadata": {},
   "source": [
    "# Static Environment (No Physics)"
   ]
  },
  {
   "cell_type": "code",
   "execution_count": null,
   "id": "1124e2ac",
   "metadata": {},
   "outputs": [],
   "source": [
    "continuous_env = realisticAUVEnv(\n",
    "    # ─── Map & observation ─────────────────────────────────────────\n",
    "    grid_size          = (200, 200),\n",
    "    resolution         = 0.05,\n",
    "    docks              = 1,\n",
    "    dock_radius        = 0.5,\n",
    "    use_history        = True,\n",
    "    history_length     = 4,\n",
    "    window_size        = (800, 600),\n",
    "\n",
    "    # ─── Physics ───────────────────────────────────────────────────\n",
    "    mass               = 1.0,\n",
    "    drag_coef          = 0.5,\n",
    "    dt                 = 0.1,\n",
    "    use_drag           = False,   # ignore drag forces\n",
    "    use_inertia        = False,   # kinematic (no Newtonian integration)\n",
    "    current_params     = None,    # no ocean current\n",
    "\n",
    "    # ─── Action space ─────────────────────────────────────────────\n",
    "    discrete_actions   = False,\n",
    "\n",
    "    # ─── Reward scheme ────────────────────────────────────────────\n",
    "    use_continuous_reward   = True,\n",
    "    step_penalty            = -1.0,   # per-step cost in discrete mode\n",
    "    slow_step_penalty       = 0.05,   # per-step cost in continuous mode\n",
    "    action_penalty_coeff    = 0.1,    # cost ∝ |v|+|lat|+|ω|\n",
    "    progress_coeff          = 8.0,    # reward ∝ distance closed\n",
    "    collision_penalty       = -0.1,   # penalty on collision\n",
    "    turn_penalty_coeff      = 0.1,    # cost ∝ |ω| each step\n",
    "    dock_reward             = 1000.0,  # terminal bonus on docking\n",
    ")"
   ]
  },
  {
   "cell_type": "markdown",
   "id": "70fbbef0",
   "metadata": {},
   "source": [
    "# **Simple TD3 Agent**"
   ]
  },
  {
   "cell_type": "code",
   "execution_count": 30,
   "id": "26ebfd7a",
   "metadata": {},
   "outputs": [
    {
     "name": "stderr",
     "output_type": "stream",
     "text": [
      "TD3:   8%|▊         | 165/2000 [04:11<46:39,  1.53s/it, Reward=-253.74]   "
     ]
    },
    {
     "name": "stdout",
     "output_type": "stream",
     "text": [
      "Unexpected exception formatting exception. Falling back to standard exception\n"
     ]
    },
    {
     "name": "stderr",
     "output_type": "stream",
     "text": [
      "\n",
      "Traceback (most recent call last):\n",
      "  File \"/Users/eirikvarnes/code/auv-rl-project/.venv/lib/python3.11/site-packages/IPython/core/interactiveshell.py\", line 3670, in run_code\n",
      "    exec(code_obj, self.user_global_ns, self.user_ns)\n",
      "  File \"/var/folders/x9/scyyg02s20v0759sw_qxdlqc0000gn/T/ipykernel_65947/2110595582.py\", line 3, in <module>\n",
      "    rewards = train_td3(continuous_env, td3_agent, episodes=2000, max_steps=2000)\n",
      "              ^^^^^^^^^^^^^^^^^^^^^^^^^^^^^^^^^^^^^^^^^^^^^^^^^^^^^^^^^^^^^^^^^^^\n",
      "  File \"/Users/eirikvarnes/code/auv-rl-project/utils/rl_utils.py\", line 30, in train_td3\n",
      "    next_s, reward, done, _ = env.step(action)\n",
      "                              ^^^^^^^^^^^^^^^^\n",
      "  File \"/Users/eirikvarnes/code/auv-rl-project/environments/realistic_env.py\", line 238, in step\n",
      "    raw_ranges, _, _ = self.sonar.get_readings(\n",
      "                       ^^^^^^^^^^^^^^^^^^^^^^^^\n",
      "  File \"/Users/eirikvarnes/code/auv-rl-project/environments/simple_env.py\", line None, in get_readings\n",
      "KeyboardInterrupt\n",
      "\n",
      "During handling of the above exception, another exception occurred:\n",
      "\n",
      "Traceback (most recent call last):\n",
      "  File \"/Users/eirikvarnes/code/auv-rl-project/.venv/lib/python3.11/site-packages/IPython/core/interactiveshell.py\", line 2176, in showtraceback\n",
      "    stb = self.InteractiveTB.structured_traceback(\n",
      "          ^^^^^^^^^^^^^^^^^^^^^^^^^^^^^^^^^^^^^^^^\n",
      "  File \"/Users/eirikvarnes/code/auv-rl-project/.venv/lib/python3.11/site-packages/IPython/core/ultratb.py\", line 1182, in structured_traceback\n",
      "    return FormattedTB.structured_traceback(\n",
      "           ^^^^^^^^^^^^^^^^^^^^^^^^^^^^^^^^^\n",
      "  File \"/Users/eirikvarnes/code/auv-rl-project/.venv/lib/python3.11/site-packages/IPython/core/ultratb.py\", line 1053, in structured_traceback\n",
      "    return VerboseTB.structured_traceback(\n",
      "           ^^^^^^^^^^^^^^^^^^^^^^^^^^^^^^^\n",
      "  File \"/Users/eirikvarnes/code/auv-rl-project/.venv/lib/python3.11/site-packages/IPython/core/ultratb.py\", line 861, in structured_traceback\n",
      "    formatted_exceptions: list[list[str]] = self.format_exception_as_a_whole(\n",
      "                                            ^^^^^^^^^^^^^^^^^^^^^^^^^^^^^^^^^\n",
      "  File \"/Users/eirikvarnes/code/auv-rl-project/.venv/lib/python3.11/site-packages/IPython/core/ultratb.py\", line 773, in format_exception_as_a_whole\n",
      "    frames.append(self.format_record(record))\n",
      "                  ^^^^^^^^^^^^^^^^^^^^^^^^^^\n",
      "  File \"/Users/eirikvarnes/code/auv-rl-project/.venv/lib/python3.11/site-packages/IPython/core/ultratb.py\", line 536, in format_record\n",
      "    assert isinstance(frame_info.lineno, int)\n",
      "           ^^^^^^^^^^^^^^^^^^^^^^^^^^^^^^^^^^\n",
      "AssertionError\n"
     ]
    }
   ],
   "source": [
    "td3_agent = TD3Agent(continuous_env)\n",
    "\n",
    "rewards = train_td3(continuous_env, td3_agent, episodes=2000, max_steps=2000)\n",
    "\n",
    "# plot the learning curve\n",
    "plot_rewards(rewards, window=70)"
   ]
  },
  {
   "cell_type": "code",
   "execution_count": null,
   "id": "342db2ec",
   "metadata": {},
   "outputs": [
    {
     "name": "stdout",
     "output_type": "stream",
     "text": [
      "Success rate: 69.4%, Avg steps: 475.4\n"
     ]
    }
   ],
   "source": [
    "sr, avg_steps = evaluate_agent(continuous_env, td3_agent, episodes=1000, max_steps=2000)\n",
    "print(f\"Success rate: {sr*100:.1f}%, Avg steps: {avg_steps:.1f}\")"
   ]
  },
  {
   "cell_type": "code",
   "execution_count": null,
   "id": "8fd3f569",
   "metadata": {},
   "outputs": [
    {
     "name": "stdout",
     "output_type": "stream",
     "text": [
      "Headless recording saved to ../gifs/td3_run.gif\n"
     ]
    }
   ],
   "source": [
    "record_headless(continuous_env, td3_agent, out_path=\"../gifs/td3_run.gif\", max_steps=200, fps=10)"
   ]
  },
  {
   "cell_type": "markdown",
   "id": "1026e92e",
   "metadata": {},
   "source": [
    "# **Enhanced TD3 Agent**"
   ]
  },
  {
   "cell_type": "code",
   "execution_count": null,
   "id": "151dd002",
   "metadata": {},
   "outputs": [
    {
     "name": "stderr",
     "output_type": "stream",
     "text": [
      "TD3: 100%|██████████| 1000/1000 [25:31<00:00,  1.53s/it, Reward=-119.52]\n"
     ]
    },
    {
     "data": {
      "image/png": "[encoded data removed]",
      "text/plain": [
       "<Figure size 640x480 with 1 Axes>"
      ]
     },
     "metadata": {},
     "output_type": "display_data"
    }
   ],
   "source": [
    "enhanced_td3_agent = TD3Agent(\n",
    "    continuous_env,\n",
    "    hidden_dims    = [128, 128],  \n",
    "    actor_lr       = 5e-4,\n",
    "    critic_lr      = 5e-4,\n",
    "    gamma          = 0.99,\n",
    "    tau            = 0.005,\n",
    "    buffer_size    = 50_000,\n",
    "    batch_size     = 128,\n",
    "    policy_noise   = 0.2,\n",
    "    noise_clip     = 0.5,\n",
    "    policy_freq    = 2,\n",
    ")\n",
    "\n",
    "rewards = train_td3(continuous_env, enhanced_td3_agent, episodes=2000, max_steps=2000)\n",
    "\n",
    "# plot the learning curve\n",
    "plot_rewards(rewards, window=70)"
   ]
  },
  {
   "cell_type": "code",
   "execution_count": null,
   "id": "945ae5c9",
   "metadata": {},
   "outputs": [
    {
     "name": "stdout",
     "output_type": "stream",
     "text": [
      "Success rate: 72.3%, Avg steps: 213.2\n"
     ]
    }
   ],
   "source": [
    "sr, avg_steps = evaluate_agent(continuous_env, enhanced_td3_agent, episodes=1000, max_steps=1000)\n",
    "print(f\"Success rate: {sr*100:.1f}%, Avg steps: {avg_steps:.1f}\")"
   ]
  },
  {
   "cell_type": "code",
   "execution_count": null,
   "id": "c36f06e0",
   "metadata": {},
   "outputs": [
    {
     "name": "stdout",
     "output_type": "stream",
     "text": [
      "Headless recording saved to ../gifs/enhanced_td3_run.gif\n"
     ]
    }
   ],
   "source": [
    "record_headless(continuous_env, enhanced_td3_agent, out_path=\"../gifs/enhanced_td3_run.gif\", max_steps=1000, fps=10)"
   ]
  },
  {
   "cell_type": "code",
   "execution_count": null,
   "id": "222d85cc",
   "metadata": {},
   "outputs": [],
   "source": []
  }
 ],
 "metadata": {
  "kernelspec": {
   "display_name": ".venv",
   "language": "python",
   "name": "python3"
  },
  "language_info": {
   "codemirror_mode": {
    "name": "ipython",
    "version": 3
   },
   "file_extension": ".py",
   "mimetype": "text/x-python",
   "name": "python",
   "nbconvert_exporter": "python",
   "pygments_lexer": "ipython3",
   "version": "3.11.12"
  }
 },
 "nbformat": 4,
 "nbformat_minor": 5
}
