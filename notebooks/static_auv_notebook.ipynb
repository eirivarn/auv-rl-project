{
 "cells": [
  {
   "cell_type": "code",
   "execution_count": 1,
   "id": "f32a4f41",
   "metadata": {},
   "outputs": [
    {
     "name": "stdout",
     "output_type": "stream",
     "text": [
      "→ Added to sys.path: /Users/eirikvarnes/code/auv-rl-project\n",
      "→ cwd is: /Users/eirikvarnes/code/auv-rl-project/notebooks\n",
      "pygame 2.6.1 (SDL 2.28.4, Python 3.11.12)\n",
      "Hello from the pygame community. https://www.pygame.org/contribute.html\n"
     ]
    }
   ],
   "source": [
    "# 1) ensure Python can see your project root\n",
    "import os, sys, time\n",
    "import numpy as np\n",
    "import matplotlib.pyplot as plt\n",
    "\n",
    "project_root = os.path.abspath(os.path.join(os.getcwd(), '..'))\n",
    "if project_root not in sys.path:\n",
    "    sys.path.insert(0, project_root)\n",
    "\n",
    "print(\"→ Added to sys.path:\", project_root)\n",
    "print(\"→ cwd is:\", os.getcwd())\n",
    "\n",
    "from environments.best_static_simple_env    import simpleAUVEnv\n",
    "from agents.auv_dqn_agent      import SimpleAuvDQNAgent\n",
    "from utils.rl_utils            import *"
   ]
  },
  {
   "cell_type": "code",
   "execution_count": 2,
   "id": "c8860c6e",
   "metadata": {},
   "outputs": [],
   "source": [
    "# 1) Make the env\n",
    "env = simpleAUVEnv(\n",
    "    grid_size=(200,200),\n",
    "    resolution=0.1,\n",
    "    docks=1,\n",
    "    dock_radius=1.0,\n",
    "    dock_reward=20.0,\n",
    "    n_beams=12,\n",
    "    start_mode='random',\n",
    "    discrete_actions=True,\n",
    "    use_history=True,\n",
    "    history_length=6,\n",
    ")\n",
    "\n",
    "# 2) Create agent\n",
    "agent = SimpleAuvDQNAgent(env,\n",
    "                          hidden_dims=[64,64],\n",
    "                          lr=1e-3,\n",
    "                          gamma=0.95,\n",
    "                          epsilon_start=1.0,\n",
    "                          epsilon_min=0.01,\n",
    "                          epsilon_decay=0.995,\n",
    "                          batch_size=64,\n",
    "                          buffer_size=5000,\n",
    "                          target_update=20)\n"
   ]
  },
  {
   "cell_type": "code",
   "execution_count": 3,
   "id": "4008f503",
   "metadata": {},
   "outputs": [
    {
     "name": "stderr",
     "output_type": "stream",
     "text": [
      "DQN Training:   0%|          | 0/1000 [00:00<?, ?it/s]\n"
     ]
    },
    {
     "ename": "ValueError",
     "evalue": "too many values to unpack (expected 2)",
     "output_type": "error",
     "traceback": [
      "\u001b[31m---------------------------------------------------------------------------\u001b[39m",
      "\u001b[31mValueError\u001b[39m                                Traceback (most recent call last)",
      "\u001b[36mCell\u001b[39m\u001b[36m \u001b[39m\u001b[32mIn[3]\u001b[39m\u001b[32m, line 2\u001b[39m\n\u001b[32m      1\u001b[39m \u001b[38;5;66;03m# 3) Train\u001b[39;00m\n\u001b[32m----> \u001b[39m\u001b[32m2\u001b[39m rewards = \u001b[43mtrain_dqn\u001b[49m\u001b[43m(\u001b[49m\u001b[43menv\u001b[49m\u001b[43m,\u001b[49m\u001b[43m \u001b[49m\u001b[43magent\u001b[49m\u001b[43m,\u001b[49m\u001b[43m \u001b[49m\u001b[43mepisodes\u001b[49m\u001b[43m=\u001b[49m\u001b[32;43m1000\u001b[39;49m\u001b[43m,\u001b[49m\u001b[43m \u001b[49m\u001b[43mmax_steps\u001b[49m\u001b[43m=\u001b[49m\u001b[32;43m200\u001b[39;49m\u001b[43m)\u001b[49m\n\u001b[32m      3\u001b[39m plot_rewards(rewards, window=\u001b[32m50\u001b[39m)\n\u001b[32m      4\u001b[39m agent.save(\u001b[33m\"\u001b[39m\u001b[33m../models/static_auv_dqn.pth\u001b[39m\u001b[33m\"\u001b[39m)\n",
      "\u001b[36mFile \u001b[39m\u001b[32m~/code/auv-rl-project/utils/rl_utils.py:12\u001b[39m, in \u001b[36mtrain_dqn\u001b[39m\u001b[34m(env, agent, episodes, max_steps)\u001b[39m\n\u001b[32m     10\u001b[39m pbar = tqdm(\u001b[38;5;28mrange\u001b[39m(episodes), desc=\u001b[33m\"\u001b[39m\u001b[33mDQN Training\u001b[39m\u001b[33m\"\u001b[39m)\n\u001b[32m     11\u001b[39m \u001b[38;5;28;01mfor\u001b[39;00m ep \u001b[38;5;129;01min\u001b[39;00m pbar:\n\u001b[32m---> \u001b[39m\u001b[32m12\u001b[39m     state, _ = env.reset()\n\u001b[32m     13\u001b[39m     total_reward = \u001b[32m0\u001b[39m\n\u001b[32m     14\u001b[39m     done = \u001b[38;5;28;01mFalse\u001b[39;00m\n",
      "\u001b[31mValueError\u001b[39m: too many values to unpack (expected 2)"
     ]
    }
   ],
   "source": [
    "# 3) Train\n",
    "rewards = train_dqn(env, agent, episodes=1000, max_steps=200)\n",
    "plot_rewards(rewards, window=50)\n",
    "agent.save(\"../models/static_auv_dqn.pth\")"
   ]
  },
  {
   "cell_type": "code",
   "execution_count": 10,
   "id": "e8238ef0",
   "metadata": {},
   "outputs": [
    {
     "name": "stdout",
     "output_type": "stream",
     "text": [
      "Headless recording saved to ../gifs/static_auv.gif\n"
     ]
    }
   ],
   "source": [
    "# record_pygame_robust(env, agent, out_path='auv.avi')\n",
    "# or\n",
    "record_headless(env, agent, out_path='../gifs/static_auv.gif')"
   ]
  },
  {
   "cell_type": "code",
   "execution_count": 11,
   "id": "b21ac391",
   "metadata": {},
   "outputs": [
    {
     "name": "stdout",
     "output_type": "stream",
     "text": [
      "Success rate: 99.8%, Avg steps: 28.4\n"
     ]
    }
   ],
   "source": [
    "# Evaluate the agent\n",
    "sr, avg_steps = evaluate_agent(env, agent, episodes=1000, max_steps=200)\n",
    "print(f\"Success rate: {sr*100:.1f}%, Avg steps: {avg_steps:.1f}\")"
   ]
  },
  {
   "cell_type": "code",
   "execution_count": 12,
   "id": "3fa556e2",
   "metadata": {},
   "outputs": [],
   "source": [
    "# 4) Evaluate\n",
    "# Load the trained agent\n",
    "agent.load(\"../models/static_auv_dqn.pth\")"
   ]
  }
 ],
 "metadata": {
  "kernelspec": {
   "display_name": ".venv",
   "language": "python",
   "name": "python3"
  },
  "language_info": {
   "codemirror_mode": {
    "name": "ipython",
    "version": 3
   },
   "file_extension": ".py",
   "mimetype": "text/x-python",
   "name": "python",
   "nbconvert_exporter": "python",
   "pygments_lexer": "ipython3",
   "version": "3.11.12"
  }
 },
 "nbformat": 4,
 "nbformat_minor": 5
}
