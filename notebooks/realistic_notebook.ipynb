{
 "cells": [
  {
   "cell_type": "code",
   "execution_count": 1,
   "id": "d9d68e83",
   "metadata": {},
   "outputs": [
    {
     "name": "stdout",
     "output_type": "stream",
     "text": [
      "→ Added to sys.path: /Users/eirikvarnes/code/auv-rl-project\n",
      "→ cwd is: /Users/eirikvarnes/code/auv-rl-project/notebooks\n",
      "pygame 2.6.1 (SDL 2.28.4, Python 3.11.12)\n",
      "Hello from the pygame community. https://www.pygame.org/contribute.html\n"
     ]
    }
   ],
   "source": [
    "import os, sys, time\n",
    "import numpy as np\n",
    "import matplotlib.pyplot as plt\n",
    "\n",
    "project_root = os.path.abspath(os.path.join(os.getcwd(), '..'))\n",
    "if project_root not in sys.path:\n",
    "    sys.path.insert(0, project_root)\n",
    "\n",
    "print(\"→ Added to sys.path:\", project_root)\n",
    "print(\"→ cwd is:\", os.getcwd())\n",
    "\n",
    "from environments.realistic_env    import realisticAUVEnv\n",
    "from agents.auv_dqn_agent          import SimpleAuvDQNAgent\n",
    "from utils.rl_utils                import *"
   ]
  },
  {
   "cell_type": "code",
   "execution_count": 2,
   "id": "1a2eff6a",
   "metadata": {},
   "outputs": [],
   "source": [
    "env = realisticAUVEnv(\n",
    "    grid_size=(200,200),\n",
    "    resolution=0.05,\n",
    "    docks=1,\n",
    "    dock_radius=0.5,\n",
    "    dock_reward=1.0,\n",
    "    use_history=True,\n",
    "    history_length=3,\n",
    "    window_size=(800,600),\n",
    "    mass=1.0,\n",
    "    drag_coef=0.5,\n",
    "    current_params={'strength':0.0,'period':30.0,'direction':0.0},\n",
    "    dt=0.1,\n",
    "    discrete_actions=True  \n",
    ")"
   ]
  },
  {
   "cell_type": "code",
   "execution_count": 3,
   "id": "4fcb1971",
   "metadata": {},
   "outputs": [],
   "source": [
    "agent = SimpleAuvDQNAgent(env,\n",
    "                          hidden_dims=[64,64],\n",
    "                          lr=1e-3,\n",
    "                          gamma=0.95,\n",
    "                          epsilon_start=1.0,\n",
    "                          epsilon_min=0.01,\n",
    "                          epsilon_decay=0.997,\n",
    "                          batch_size=64,\n",
    "                          buffer_size=5000,\n",
    "                          target_update=20)\n"
   ]
  },
  {
   "cell_type": "code",
   "execution_count": 4,
   "id": "5a6073b6",
   "metadata": {},
   "outputs": [
    {
     "name": "stderr",
     "output_type": "stream",
     "text": [
      "DQN Training:   0%|          | 0/1000 [00:00<?, ?it/s]\n"
     ]
    },
    {
     "ename": "NameError",
     "evalue": "name 'v_cmd' is not defined",
     "output_type": "error",
     "traceback": [
      "\u001b[31m---------------------------------------------------------------------------\u001b[39m",
      "\u001b[31mNameError\u001b[39m                                 Traceback (most recent call last)",
      "\u001b[36mCell\u001b[39m\u001b[36m \u001b[39m\u001b[32mIn[4]\u001b[39m\u001b[32m, line 1\u001b[39m\n\u001b[32m----> \u001b[39m\u001b[32m1\u001b[39m rewards = \u001b[43mtrain_dqn\u001b[49m\u001b[43m(\u001b[49m\u001b[43menv\u001b[49m\u001b[43m,\u001b[49m\u001b[43m \u001b[49m\u001b[43magent\u001b[49m\u001b[43m,\u001b[49m\u001b[43m \u001b[49m\u001b[43mepisodes\u001b[49m\u001b[43m=\u001b[49m\u001b[32;43m1000\u001b[39;49m\u001b[43m,\u001b[49m\u001b[43m \u001b[49m\u001b[43mmax_steps\u001b[49m\u001b[43m=\u001b[49m\u001b[32;43m200\u001b[39;49m\u001b[43m)\u001b[49m\n\u001b[32m      2\u001b[39m plot_rewards(rewards, window=\u001b[32m50\u001b[39m)\n\u001b[32m      3\u001b[39m agent.save(\u001b[33m\"\u001b[39m\u001b[33m../models/realistic_auv_dqn.pth\u001b[39m\u001b[33m\"\u001b[39m)\n",
      "\u001b[36mFile \u001b[39m\u001b[32m~/code/auv-rl-project/utils/rl_utils.py:21\u001b[39m, in \u001b[36mtrain_dqn\u001b[39m\u001b[34m(env, agent, episodes, max_steps)\u001b[39m\n\u001b[32m     19\u001b[39m idx = agent.select_action(state)\n\u001b[32m     20\u001b[39m \u001b[38;5;66;03m# pass the index directly; step() will handle discrete_actions\u001b[39;00m\n\u001b[32m---> \u001b[39m\u001b[32m21\u001b[39m next_s, reward, done, _ = \u001b[43menv\u001b[49m\u001b[43m.\u001b[49m\u001b[43mstep\u001b[49m\u001b[43m(\u001b[49m\u001b[43midx\u001b[49m\u001b[43m)\u001b[49m\n\u001b[32m     22\u001b[39m agent.store_transition(state, idx, reward, next_s, done)\n\u001b[32m     23\u001b[39m agent.optimize_model()\n",
      "\u001b[36mFile \u001b[39m\u001b[32m~/code/auv-rl-project/environments/realistic_env.py:73\u001b[39m, in \u001b[36mrealisticAUVEnv.step\u001b[39m\u001b[34m(self, action)\u001b[39m\n\u001b[32m     70\u001b[39m     current = np.zeros(\u001b[32m2\u001b[39m)\n\u001b[32m     72\u001b[39m \u001b[38;5;66;03m# thrust and drag\u001b[39;00m\n\u001b[32m---> \u001b[39m\u001b[32m73\u001b[39m F_body  = np.array([\u001b[43mv_cmd\u001b[49m, lat_cmd])\n\u001b[32m     74\u001b[39m R       = np.array([[math.cos(old_th), -math.sin(old_th)], [math.sin(old_th), math.cos(old_th)]])\n\u001b[32m     75\u001b[39m F_thrust = R.dot(F_body)\n",
      "\u001b[31mNameError\u001b[39m: name 'v_cmd' is not defined"
     ]
    }
   ],
   "source": [
    "rewards = train_dqn(env, agent, episodes=1000, max_steps=200)\n",
    "plot_rewards(rewards, window=50)\n",
    "agent.save(\"../models/realistic_auv_dqn.pth\")"
   ]
  },
  {
   "cell_type": "code",
   "execution_count": null,
   "id": "40925a2d",
   "metadata": {},
   "outputs": [
    {
     "name": "stdout",
     "output_type": "stream",
     "text": [
      "Success rate: 46.5%, Avg steps: 74.2\n"
     ]
    }
   ],
   "source": [
    "# Evaluate the agent\n",
    "sr, avg_steps = evaluate_agent(env, agent, episodes=200, max_steps=200)\n",
    "print(f\"Success rate: {sr*100:.1f}%, Avg steps: {avg_steps:.1f}\")"
   ]
  },
  {
   "cell_type": "code",
   "execution_count": null,
   "id": "390e387f",
   "metadata": {},
   "outputs": [
    {
     "name": "stdout",
     "output_type": "stream",
     "text": [
      "Headless recording saved to ../gifs/realistic_auv.gif\n"
     ]
    }
   ],
   "source": [
    "record_headless(env, agent, out_path='../gifs/realistic_auv.gif')"
   ]
  },
  {
   "cell_type": "code",
   "execution_count": null,
   "id": "a736edc5",
   "metadata": {},
   "outputs": [],
   "source": [
    "# Load the trained agent\n",
    "agent.load(\"../models/realistic_auv_dqn.pth\")"
   ]
  }
 ],
 "metadata": {
  "kernelspec": {
   "display_name": ".venv",
   "language": "python",
   "name": "python3"
  },
  "language_info": {
   "codemirror_mode": {
    "name": "ipython",
    "version": 3
   },
   "file_extension": ".py",
   "mimetype": "text/x-python",
   "name": "python",
   "nbconvert_exporter": "python",
   "pygments_lexer": "ipython3",
   "version": "3.11.12"
  }
 },
 "nbformat": 4,
 "nbformat_minor": 5
}
